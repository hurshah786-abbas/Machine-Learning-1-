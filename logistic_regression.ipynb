{
 "cells": [
  {
   "cell_type": "markdown",
   "id": "korean-wednesday",
   "metadata": {},
   "source": [
    "# Logistic Regression\n",
    "You should build a machine learning pipeline using a logistic regression model. In particular, you should do the following:\n",
    "- Load the `mnist` dataset using [Pandas](https://pandas.pydata.org/docs/reference/api/pandas.read_csv.html). You can find this dataset in the datasets folder.\n",
    "- Split the dataset into training and test sets using [Scikit-Learn](https://scikit-learn.org/stable/modules/generated/sklearn.model_selection.train_test_split.html). \n",
    "- Train and test a logistic regression model using [Scikit-Learn](https://scikit-learn.org/stable/modules/generated/sklearn.linear_model.LogisticRegression.html).\n",
    "- Check the documentation to identify the most important hyperparameters, attributes, and methods of the model. Use them in practice."
   ]
  },
  {
   "cell_type": "code",
   "execution_count": 15,
   "id": "infrared-copper",
   "metadata": {
    "scrolled": true
   },
   "outputs": [],
   "source": [
    "import numpy as np\n",
    "import matplotlib.pyplot as plt\n",
    "from sklearn import datasets, metrics, preprocessing\n",
    "from sklearn.linear_model import LogisticRegression"
   ]
  },
  {
   "cell_type": "code",
   "execution_count": 19,
   "id": "8c2c66fe",
   "metadata": {},
   "outputs": [],
   "source": [
    "# df = pd.read_csv(\"../../datasets/mnist.csv\")\n",
    "# df = df.set_index(\"id\")\n",
    "# df.head()\n",
    "\n",
    "def process(image):\n",
    "    image -= image.min()\n",
    "    image /= image.max()\n",
    "    image *= 255\n",
    "    return image.astype(np.uint8)"
   ]
  },
  {
   "cell_type": "code",
   "execution_count": 20,
   "id": "f6996cb6",
   "metadata": {},
   "outputs": [],
   "source": [
    "# load MNIST dataset\n",
    "mnist = datasets.load_digits()\n",
    "images = mnist.images\n",
    "labels = mnist.target\n",
    "data_size = len(images)\n",
    "\n"
   ]
  },
  {
   "cell_type": "code",
   "execution_count": 21,
   "id": "6530ffcd",
   "metadata": {},
   "outputs": [],
   "source": [
    "# preprocessing images\n",
    "images = images.reshape(len(images), -1)\n",
    "images = preprocessing.scale(images)"
   ]
  },
  {
   "cell_type": "code",
   "execution_count": 22,
   "id": "e9853732",
   "metadata": {},
   "outputs": [],
   "source": [
    "# split dataset into train and test sets with train size of 75%\n",
    "split = 0.75\n",
    "X_train, y_train = images[:int(data_size * split)], labels[:int(data_size * split)]\n",
    "X_test, y_test = images[int(data_size * split):], labels[int(data_size * split):]"
   ]
  },
  {
   "cell_type": "code",
   "execution_count": 23,
   "id": "d91eb21b",
   "metadata": {},
   "outputs": [],
   "source": [
    "# initialize Logistic Regression\n",
    "LR_classifier = LogisticRegression(C=0.01, penalty='l2', tol=0.01)"
   ]
  },
  {
   "cell_type": "code",
   "execution_count": 24,
   "id": "40d87ab7",
   "metadata": {},
   "outputs": [
    {
     "data": {
      "text/plain": [
       "LogisticRegression(C=0.01, tol=0.01)"
      ]
     },
     "execution_count": 24,
     "metadata": {},
     "output_type": "execute_result"
    }
   ],
   "source": [
    "# train the LR_classifier on X_train, y_train\n",
    "LR_classifier.fit(X_train, y_train)"
   ]
  },
  {
   "cell_type": "code",
   "execution_count": 25,
   "id": "d3a26e8e",
   "metadata": {},
   "outputs": [],
   "source": [
    "# test the LR_classifier on X_test\n",
    "predictions = LR_classifier.predict(X_test)"
   ]
  },
  {
   "cell_type": "code",
   "execution_count": 26,
   "id": "0fe55175",
   "metadata": {},
   "outputs": [
    {
     "name": "stdout",
     "output_type": "stream",
     "text": [
      "Performance Report: \n",
      "               precision    recall  f1-score   support\n",
      "\n",
      "           0       1.00      0.95      0.98        43\n",
      "           1       0.88      0.78      0.83        46\n",
      "           2       1.00      1.00      1.00        43\n",
      "           3       0.97      0.74      0.84        47\n",
      "           4       0.98      0.94      0.96        48\n",
      "           5       0.86      0.96      0.91        45\n",
      "           6       0.96      0.96      0.96        47\n",
      "           7       0.92      0.98      0.95        45\n",
      "           8       0.75      0.80      0.78        41\n",
      "           9       0.72      0.87      0.79        45\n",
      "\n",
      "    accuracy                           0.90       450\n",
      "   macro avg       0.90      0.90      0.90       450\n",
      "weighted avg       0.90      0.90      0.90       450\n",
      " \n",
      "\n"
     ]
    }
   ],
   "source": [
    "\n",
    "# log the performance report of the LR_classifier using y_test and predictions\n",
    "print(\"Performance Report: \\n %s \\n\" % (metrics.classification_report(y_test, predictions)))"
   ]
  },
  {
   "cell_type": "code",
   "execution_count": 27,
   "id": "7409508b",
   "metadata": {},
   "outputs": [
    {
     "data": {
      "image/png": "[encoded data removed]",
      "text/plain": [
       "<Figure size 432x288 with 10 Axes>"
      ]
     },
     "metadata": {},
     "output_type": "display_data"
    }
   ],
   "source": [
    "# display predictions on some random images from test set\n",
    "R, C = 2, 5\n",
    "N = R * C\n",
    "indices = np.random.randint(0, len(X_test), size=N)\n",
    "for i, idx in enumerate(indices):\n",
    "    test_image = X_test[idx].reshape((1, -1))\n",
    "    prediction = LR_classifier.predict(test_image)[0]\n",
    "    ax = plt.subplot(R, C, i + 1)\n",
    "    plot_image = process(test_image.reshape((8, 8)))\n",
    "    ax.title.set_text(f'label: {y_test[idx]}\\nprediction: {prediction}')\n",
    "    ax.imshow(plot_image, cmap='gray')\n",
    "    plt.xticks([]), plt.yticks([])\n",
    "plt.show()"
   ]
  },
  {
   "cell_type": "code",
   "execution_count": null,
   "id": "d3a3aced",
   "metadata": {},
   "outputs": [],
   "source": []
  }
 ],
 "metadata": {
  "kernelspec": {
   "display_name": "Python 3 (ipykernel)",
   "language": "python",
   "name": "python3"
  },
  "language_info": {
   "codemirror_mode": {
    "name": "ipython",
    "version": 3
   },
   "file_extension": ".py",
   "mimetype": "text/x-python",
   "name": "python",
   "nbconvert_exporter": "python",
   "pygments_lexer": "ipython3",
   "version": "3.8.12"
  }
 },
 "nbformat": 4,
 "nbformat_minor": 5
}
